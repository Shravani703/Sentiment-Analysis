{
  "cells": [
    {
      "cell_type": "code",
      "execution_count": null,
      "metadata": {
        "id": "XraaiIxdBM9X"
      },
      "outputs": [],
      "source": [
        "import pandas as pd\n",
        "import matplotlib.pyplot as plt\n",
        "import numpy as np\n",
        "import seaborn as sns\n",
        "import string\n",
        "%matplotlib inline\n",
        "\n",
        "# sklearn specific imports\n",
        "from sklearn.feature_extraction import DictVectorizer\n",
        "from sklearn.feature_extraction.text import CountVectorizer\n",
        "from sklearn.linear_model import LogisticRegression\n",
        "from sklearn.model_selection import train_test_split\n",
        "from sklearn.decomposition import PCA\n",
        "from sklearn.preprocessing import StandardScaler\n",
        "from sklearn.metrics import accuracy_score\n",
        "\n",
        "from gensim.models import Word2Vec\n"
      ]
    },
    {
      "cell_type": "markdown",
      "metadata": {
        "id": "5L5KWMjGB52D"
      },
      "source": [
        "### Load and Clean Data\n",
        "\n",
        "In this section we upload and clean our data.\n",
        "\n",
        "Uploaded the data. The data consists of ``products.csv`` with the product reviews."
      ]
    },
    {
      "cell_type": "code",
      "execution_count": null,
      "metadata": {
        "colab": {
          "base_uri": "https://localhost:8080/",
          "height": 309
        },
        "id": "QrMCzZc9BlRf",
        "outputId": "f64ba05d-15e2-4586-9415-15b258565c07"
      },
      "outputs": [
        {
          "name": "stdout",
          "output_type": "stream",
          "text": [
            "Number of reviews: 5000\n",
            "Dataframe Columns Index(['name', 'review', 'rating'], dtype='object')\n",
            "Name: Stop Pacifier Sucking without tears with Thumbuddy To Love's Binky Fairy Puppet and Adorable Book\n",
            "Review: All of my kids have cried non-stop when I tried to ween them off their pacifier, until I found Thumbuddy To Love's Binky Fairy Puppet.  It is an easy way to work with your kids to allow them to understand where their pacifier is going and help them part from it.This is a must buy book, and a great gift for expecting parents!!  You will save them soo many headaches.Thanks for this book!  You all rock!!\n",
            "Rating: 5\n"
          ]
        },
        {
          "data": {
            "text/html": [
              "\n",
              "  <div id=\"df-b1071739-dabe-444f-a35e-b85cf45d3e55\">\n",
              "    <div class=\"colab-df-container\">\n",
              "      <div>\n",
              "<style scoped>\n",
              "    .dataframe tbody tr th:only-of-type {\n",
              "        vertical-align: middle;\n",
              "    }\n",
              "\n",
              "    .dataframe tbody tr th {\n",
              "        vertical-align: top;\n",
              "    }\n",
              "\n",
              "    .dataframe thead th {\n",
              "        text-align: right;\n",
              "    }\n",
              "</style>\n",
              "<table border=\"1\" class=\"dataframe\">\n",
              "  <thead>\n",
              "    <tr style=\"text-align: right;\">\n",
              "      <th></th>\n",
              "      <th>name</th>\n",
              "      <th>review</th>\n",
              "      <th>rating</th>\n",
              "      <th>sentiment</th>\n",
              "    </tr>\n",
              "  </thead>\n",
              "  <tbody>\n",
              "    <tr>\n",
              "      <th>0</th>\n",
              "      <td>Stop Pacifier Sucking without tears with Thumb...</td>\n",
              "      <td>All of my kids have cried nonstop when I tried...</td>\n",
              "      <td>5</td>\n",
              "      <td>1</td>\n",
              "    </tr>\n",
              "    <tr>\n",
              "      <th>1</th>\n",
              "      <td>Nature's Lullabies Second Year Sticker Calendar</td>\n",
              "      <td>We wanted to get something to keep track of ou...</td>\n",
              "      <td>5</td>\n",
              "      <td>1</td>\n",
              "    </tr>\n",
              "    <tr>\n",
              "      <th>2</th>\n",
              "      <td>Nature's Lullabies Second Year Sticker Calendar</td>\n",
              "      <td>I only purchased a secondyear calendar for my ...</td>\n",
              "      <td>2</td>\n",
              "      <td>-1</td>\n",
              "    </tr>\n",
              "    <tr>\n",
              "      <th>3</th>\n",
              "      <td>Nature's Lullabies Second Year Sticker Calendar</td>\n",
              "      <td>My daughter had her 1st baby over a year ago S...</td>\n",
              "      <td>5</td>\n",
              "      <td>1</td>\n",
              "    </tr>\n",
              "    <tr>\n",
              "      <th>4</th>\n",
              "      <td>Lamaze Peekaboo, I Love You</td>\n",
              "      <td>One of babys first and favorite books and it i...</td>\n",
              "      <td>4</td>\n",
              "      <td>1</td>\n",
              "    </tr>\n",
              "  </tbody>\n",
              "</table>\n",
              "</div>\n",
              "      <button class=\"colab-df-convert\" onclick=\"convertToInteractive('df-b1071739-dabe-444f-a35e-b85cf45d3e55')\"\n",
              "              title=\"Convert this dataframe to an interactive table.\"\n",
              "              style=\"display:none;\">\n",
              "        \n",
              "  <svg xmlns=\"http://www.w3.org/2000/svg\" height=\"24px\"viewBox=\"0 0 24 24\"\n",
              "       width=\"24px\">\n",
              "    <path d=\"M0 0h24v24H0V0z\" fill=\"none\"/>\n",
              "    <path d=\"M18.56 5.44l.94 2.06.94-2.06 2.06-.94-2.06-.94-.94-2.06-.94 2.06-2.06.94zm-11 1L8.5 8.5l.94-2.06 2.06-.94-2.06-.94L8.5 2.5l-.94 2.06-2.06.94zm10 10l.94 2.06.94-2.06 2.06-.94-2.06-.94-.94-2.06-.94 2.06-2.06.94z\"/><path d=\"M17.41 7.96l-1.37-1.37c-.4-.4-.92-.59-1.43-.59-.52 0-1.04.2-1.43.59L10.3 9.45l-7.72 7.72c-.78.78-.78 2.05 0 2.83L4 21.41c.39.39.9.59 1.41.59.51 0 1.02-.2 1.41-.59l7.78-7.78 2.81-2.81c.8-.78.8-2.07 0-2.86zM5.41 20L4 18.59l7.72-7.72 1.47 1.35L5.41 20z\"/>\n",
              "  </svg>\n",
              "      </button>\n",
              "      \n",
              "  <style>\n",
              "    .colab-df-container {\n",
              "      display:flex;\n",
              "      flex-wrap:wrap;\n",
              "      gap: 12px;\n",
              "    }\n",
              "\n",
              "    .colab-df-convert {\n",
              "      background-color: #E8F0FE;\n",
              "      border: none;\n",
              "      border-radius: 50%;\n",
              "      cursor: pointer;\n",
              "      display: none;\n",
              "      fill: #1967D2;\n",
              "      height: 32px;\n",
              "      padding: 0 0 0 0;\n",
              "      width: 32px;\n",
              "    }\n",
              "\n",
              "    .colab-df-convert:hover {\n",
              "      background-color: #E2EBFA;\n",
              "      box-shadow: 0px 1px 2px rgba(60, 64, 67, 0.3), 0px 1px 3px 1px rgba(60, 64, 67, 0.15);\n",
              "      fill: #174EA6;\n",
              "    }\n",
              "\n",
              "    [theme=dark] .colab-df-convert {\n",
              "      background-color: #3B4455;\n",
              "      fill: #D2E3FC;\n",
              "    }\n",
              "\n",
              "    [theme=dark] .colab-df-convert:hover {\n",
              "      background-color: #434B5C;\n",
              "      box-shadow: 0px 1px 3px 1px rgba(0, 0, 0, 0.15);\n",
              "      filter: drop-shadow(0px 1px 2px rgba(0, 0, 0, 0.3));\n",
              "      fill: #FFFFFF;\n",
              "    }\n",
              "  </style>\n",
              "\n",
              "      <script>\n",
              "        const buttonEl =\n",
              "          document.querySelector('#df-b1071739-dabe-444f-a35e-b85cf45d3e55 button.colab-df-convert');\n",
              "        buttonEl.style.display =\n",
              "          google.colab.kernel.accessAllowed ? 'block' : 'none';\n",
              "\n",
              "        async function convertToInteractive(key) {\n",
              "          const element = document.querySelector('#df-b1071739-dabe-444f-a35e-b85cf45d3e55');\n",
              "          const dataTable =\n",
              "            await google.colab.kernel.invokeFunction('convertToInteractive',\n",
              "                                                     [key], {});\n",
              "          if (!dataTable) return;\n",
              "\n",
              "          const docLinkHtml = 'Like what you see? Visit the ' +\n",
              "            '<a target=\"_blank\" href=https://colab.research.google.com/notebooks/data_table.ipynb>data table notebook</a>'\n",
              "            + ' to learn more about interactive tables.';\n",
              "          element.innerHTML = '';\n",
              "          dataTable['output_type'] = 'display_data';\n",
              "          await google.colab.output.renderOutput(dataTable, element);\n",
              "          const docLink = document.createElement('div');\n",
              "          docLink.innerHTML = docLinkHtml;\n",
              "          element.appendChild(docLink);\n",
              "        }\n",
              "      </script>\n",
              "    </div>\n",
              "  </div>\n",
              "  "
            ],
            "text/plain": [
              "                                                name  \\\n",
              "0  Stop Pacifier Sucking without tears with Thumb...   \n",
              "1    Nature's Lullabies Second Year Sticker Calendar   \n",
              "2    Nature's Lullabies Second Year Sticker Calendar   \n",
              "3    Nature's Lullabies Second Year Sticker Calendar   \n",
              "4                        Lamaze Peekaboo, I Love You   \n",
              "\n",
              "                                              review  rating  sentiment  \n",
              "0  All of my kids have cried nonstop when I tried...       5          1  \n",
              "1  We wanted to get something to keep track of ou...       5          1  \n",
              "2  I only purchased a secondyear calendar for my ...       2         -1  \n",
              "3  My daughter had her 1st baby over a year ago S...       5          1  \n",
              "4  One of babys first and favorite books and it i...       4          1  "
            ]
          },
          "execution_count": 4,
          "metadata": {},
          "output_type": "execute_result"
        }
      ],
      "source": [
        "products = pd.read_csv('/content/drive/MyDrive/Colab Notebooks/products.csv')\n",
        "products = products.iloc[0:5000] # For the sake of computation, we will only look at 5000 reviews\n",
        "print('Number of reviews:', len(products))\n",
        "print('Dataframe Columns', products.columns)\n",
        "# Let's look at a specific product\n",
        "print('Name:', products.iloc[0]['name'])\n",
        "print('Review:', products.iloc[0]['review'])\n",
        "print('Rating:', products.iloc[0]['rating'])\n",
        "\n",
        "# REMOVE products with review equal to 3\n",
        "products = products[products['rating'] != 3]\n",
        "\n",
        "def remove_punctuation(text):\n",
        "    if type(text) != str:\n",
        "        return ''\n",
        "    return text.translate(str.maketrans('', '', string.punctuation))\n",
        "\n",
        "products['review'] = products['review'].apply(remove_punctuation)\n",
        "len(products)\n",
        "products['sentiment'] = products['rating'].apply(lambda rating : +1 if rating > 3 else -1)\n",
        "products.head()"
      ]
    },
    {
      "cell_type": "code",
      "execution_count": null,
      "metadata": {
        "colab": {
          "base_uri": "https://localhost:8080/"
        },
        "id": "EZBgOHWRLhTC",
        "outputId": "4f681640-98e8-45df-82e8-9b14dd9f1b1d"
      },
      "outputs": [
        {
          "name": "stdout",
          "output_type": "stream",
          "text": [
            "Mounted at /content/drive\n"
          ]
        }
      ],
      "source": [
        "from google.colab import drive\n",
        "drive.mount('/content/drive')"
      ]
    },
    {
      "cell_type": "markdown",
      "metadata": {
        "id": "F1maVTHA6-LS"
      },
      "source": [
        "Performed a train/test split.\n"
      ]
    },
    {
      "cell_type": "code",
      "execution_count": null,
      "metadata": {
        "id": "ZjFaReqb69PH"
      },
      "outputs": [],
      "source": [
        "products_train, products_test = train_test_split(products, test_size = 0.2, random_state = 1)"
      ]
    },
    {
      "cell_type": "markdown",
      "metadata": {
        "id": "QCIsieDzPdbh"
      },
      "source": [
        "### A majority classifier\n",
        "\n",
        "A reasonable first classifier is to figure out what the majority sentiment is in the training set and use that as a predictor on the test set.\n"
      ]
    },
    {
      "cell_type": "code",
      "execution_count": null,
      "metadata": {
        "colab": {
          "base_uri": "https://localhost:8080/"
        },
        "id": "LS9iTN2sQgk6",
        "outputId": "633179a7-5bdf-4677-b447-175e64e173b1"
      },
      "outputs": [
        {
          "data": {
            "text/plain": [
              "0.586"
            ]
          },
          "execution_count": 6,
          "metadata": {},
          "output_type": "execute_result"
        }
      ],
      "source": [
        "# find the majority class (positive or negative) in the training set\n",
        "\n",
        "products_train['sentiment'].value_counts()\n",
        "# 2309 negative reviews and 1691 positive reviews\n",
        "train_sentiment = products_train['sentiment'].mean()\n",
        "products_test.head()\n",
        "\n",
        "# Checking accuracy\n",
        "y_true = products_test['sentiment']\n",
        "y_pred = -1 * np.ones(shape=(len(products_test),1)) #Predicted sentiment is all negative (-1)\n",
        "\n",
        "accuracy_score(y_true, y_pred)\n",
        "\n",
        "#Accuracy is 58.6% when we blindly predict that every review in the test set is of negative sentiment"
      ]
    },
    {
      "cell_type": "markdown",
      "metadata": {
        "id": "2IAQ6ft6RAJ-"
      },
      "source": [
        "### Featurizing sentences"
      ]
    },
    {
      "cell_type": "markdown",
      "metadata": {
        "id": "7pUfC3He5Lmg"
      },
      "source": [
        "Now we will use a ``CountVectorizer`` to turn our reviews, which our sentences, into features.\n",
        "\n",
        "The count vectorizer takes each sentence, removes punctuation and does a bit of other preprocessing. It then converts the sentence into a list of tokens (words). Then, for each word that appears in the sentence it counts the number of times a given word appears and encodes it in a vector.\n",
        "\n",
        "The CountVectorizer collects a list of all words that appear, ['It', 'is', 'and', 'cat', 'ball']. Then for each sentence it returns a list of how many times each word appears. Thus s1:[1, 1, 0, 1, 0], s2:[1, 1, 1, 1, 1], s3:[1, 1, 2, 2, 1]\n",
        "\n",
        "These vectors are going to form our features"
      ]
    },
    {
      "cell_type": "code",
      "execution_count": null,
      "metadata": {
        "colab": {
          "base_uri": "https://localhost:8080/"
        },
        "id": "It4D_H3i5K5o",
        "outputId": "aa6d8a58-671e-421f-b318-a596ce4c3810"
      },
      "outputs": [
        {
          "name": "stdout",
          "output_type": "stream",
          "text": [
            "['0' '001' '01' ... 'zoo' 'zookeepers' 'zoos']\n",
            "vocab in count_vectorizer: 14802 dimension of X 14802\n"
          ]
        }
      ],
      "source": [
        "count_vectorizer = CountVectorizer(lowercase=True, token_pattern=u\"(?u)\\\\b\\\\w+\\\\b\", stop_words='english')\n",
        "X_train = count_vectorizer.fit_transform(products_train['review'])\n",
        "y_train = products_train['sentiment']\n",
        "\n",
        "words = count_vectorizer.get_feature_names_out()\n",
        "print(words)\n",
        "\n",
        "# The two numbers printed out should match\n",
        "print('vocab in count_vectorizer:', len(count_vectorizer.get_feature_names_out()), 'dimension of X', X_train.shape[1])\n",
        "\n",
        "# We \"trained\" our count-vectorizer on the train set, now we run it on the test-set\n",
        "X_test = count_vectorizer.transform(products_test['review'])\n",
        "y_test = products_test['sentiment']\n",
        "\n",
        "# Finally we build a tokenizer\n",
        "tokenizer = count_vectorizer.build_analyzer() # We will use this later to tokenize our sentences"
      ]
    },
    {
      "cell_type": "markdown",
      "metadata": {
        "id": "TkfOFjI1YU1t"
      },
      "source": [
        "The CountVectorizer is fitted onto the training dataset only. The frequencies of the words are learned here, and then they are applied to the test set to estimate the performance of the algorithm."
      ]
    },
    {
      "cell_type": "markdown",
      "metadata": {
        "id": "BnJTBPT8It5l"
      },
      "source": [
        "### Build a Logistic Regression Classifier on Bag of Words Features\n",
        "\n",
        "Now we build a logistic classifier on our resulting feature representation. The logistic regression classifier is effectively going to learn a feature per word in our list of words on the training set from above.\n"
      ]
    },
    {
      "cell_type": "code",
      "execution_count": null,
      "metadata": {
        "id": "2iQF2fB47jUQ"
      },
      "outputs": [],
      "source": [
        "#Train a logisitic regression model on the training set\n",
        "sentiment_model = LogisticRegression(C=1).fit(X_train,y_train)"
      ]
    },
    {
      "cell_type": "markdown",
      "metadata": {
        "id": "O1mEbmW18z1i"
      },
      "source": [
        "Now we can use this model to make predictions. Use the model to find the predicted probabilities on a small subset of 3 points"
      ]
    },
    {
      "cell_type": "code",
      "execution_count": null,
      "metadata": {
        "colab": {
          "base_uri": "https://localhost:8080/"
        },
        "id": "xXyqdzbL84Ve",
        "outputId": "1317db7c-6996-4f6a-8252-e391ebfe40c9"
      },
      "outputs": [
        {
          "name": "stdout",
          "output_type": "stream",
          "text": [
            "[[9.87183651e-01 1.28163488e-02]\n",
            " [9.65456091e-01 3.45439088e-02]\n",
            " [1.97189486e-01 8.02810514e-01]\n",
            " [6.19836617e-04 9.99380163e-01]\n",
            " [6.88248772e-01 3.11751228e-01]\n",
            " [9.84068040e-01 1.59319596e-02]\n",
            " [9.44270372e-01 5.57296280e-02]\n",
            " [9.84759031e-01 1.52409692e-02]\n",
            " [1.59305465e-01 8.40694535e-01]\n",
            " [1.33366270e-03 9.98666337e-01]]\n"
          ]
        }
      ],
      "source": [
        "sample_test_data = X_test[1:11]\n",
        "probs = sentiment_model.predict_proba(sample_test_data)\n",
        "print(probs)"
      ]
    },
    {
      "cell_type": "code",
      "execution_count": null,
      "metadata": {
        "colab": {
          "base_uri": "https://localhost:8080/"
        },
        "id": "F7n4eeispLG5",
        "outputId": "2eec8188-000d-4e0f-dab3-7a11a4a909a6"
      },
      "outputs": [
        {
          "name": "stdout",
          "output_type": "stream",
          "text": [
            "[('bathsi', -0.01879155131918723), ('baththe', 0.08114320284308224), ('bathtime', 0.09278254596438429), ('bathtimeand', -9.306374813260803e-05), ('bathtub', 0.4713882990122745), ('bathtubs', 0.20648651945610857), ('bathtubthe', -0.012675606301970671), ('bathtubthis', 0.05923402067021712), ('batiste', -0.04019695452466787), ('batted', 0.04047100300667036), ('battered', 0.015435312115969279), ('batteries', -0.7777566448284221), ('batteries3', -0.0007042062391138165), ('batteriesnow', -0.00835076210828282), ('battery', -0.672336811637484), ('batterytake', -9.641504853212602e-06), ('batting', -0.012246095625858069), ('battle', -0.01637143240296546), ('bauer', -0.3547659435743857), ('baught', -0.05601071173644782)]\n"
          ]
        }
      ],
      "source": [
        "print(list(zip(words[1500:1520],sentiment_model.coef_[0,1500:1520])))"
      ]
    },
    {
      "cell_type": "markdown",
      "metadata": {
        "id": "x74WCpBkm2lT"
      },
      "source": [
        "Now we extract the weights from the logistic model and print the words with the five largest and five smallest coefficients."
      ]
    },
    {
      "cell_type": "code",
      "execution_count": null,
      "metadata": {
        "colab": {
          "base_uri": "https://localhost:8080/"
        },
        "id": "QRGs01nQm28Y",
        "outputId": "37a952b9-1a58-4e30-9ad2-90152db95e06"
      },
      "outputs": [
        {
          "name": "stdout",
          "output_type": "stream",
          "text": [
            "['0' '001' '01' ... 'zoo' 'zookeepers' 'zoos']\n",
            "['001' '0'], ['001' '0'], ['0' '001'], ['0' '001'], ['001' '0'], "
          ]
        }
      ],
      "source": [
        "# get 5 largest indices\n",
        "best_5 = np.argsort(probs, axis=1)[:,-5:]\n",
        "words = count_vectorizer.get_feature_names_out()\n",
        "print(words)\n",
        "for i in range(5):\n",
        "    print(words[best_5[i]], end=\", \")\n"
      ]
    },
    {
      "cell_type": "markdown",
      "metadata": {
        "id": "QlVDjudaI2p9"
      },
      "source": [
        "### Assessing the Bag of words model\n",
        "\n",
        "We will now use the model to build a confusion matrix. A common tool that helps assess classification models is the confusion matrix.\n",
        "\n",
        "We've created a function that will plot a confusion matrix for you given a set of inputs which are the values that should appear within each cell."
      ]
    },
    {
      "cell_type": "code",
      "execution_count": null,
      "metadata": {
        "id": "s51wvFKPSn7X"
      },
      "outputs": [],
      "source": [
        "def plot_confusion_matrix(tp, fp, fn, tn):\n",
        "    \"\"\"\n",
        "    Plots a confusion matrix using the values\n",
        "       tp - True Positive\n",
        "       fp - False Positive\n",
        "       fn - False Negative\n",
        "       tn - True Negative\n",
        "    \"\"\"\n",
        "    data = np.matrix([[tp, fp], [fn, tn]])\n",
        "\n",
        "    sns.heatmap(data, annot=True, cmap='YlGnBu',\n",
        "                xticklabels=['Actual Pos.', 'Actual Neg.'],\n",
        "                yticklabels=['Pred. Pos.', 'Pred. Neg.'])"
      ]
    },
    {
      "cell_type": "code",
      "execution_count": null,
      "metadata": {
        "id": "k8492CwFSpBx",
        "colab": {
          "base_uri": "https://localhost:8080/",
          "height": 299
        },
        "outputId": "e29b8edb-c988-479d-c3cf-801e6ebb2ab5"
      },
      "outputs": [
        {
          "output_type": "stream",
          "name": "stdout",
          "text": [
            "[[497  89]\n",
            " [ 92 322]]\n"
          ]
        },
        {
          "output_type": "display_data",
          "data": {
            "text/plain": [
              "<Figure size 432x288 with 2 Axes>"
            ],
            "image/png": "[encoded data removed]"
          },
          "metadata": {
            "needs_background": "light"
          }
        }
      ],
      "source": [
        "tp = 0\n",
        "fp = 0\n",
        "tn = 0\n",
        "fn = 0\n",
        "i= 0\n",
        "pred = sentiment_model.predict(X_test)\n",
        "# TODO: Compute the number of true positives, false positives, true negatives, false negatives\n",
        "# on the test set.\n",
        "from sklearn.metrics import confusion_matrix\n",
        "conf_mat = confusion_matrix(y_test, pred)\n",
        "print(conf_mat)\n",
        "tp = conf_mat[1, 1]\n",
        "fp = conf_mat[0, 1]\n",
        "tn = conf_mat[0, 0]\n",
        "fn = conf_mat[1, 0]\n",
        "plot_confusion_matrix(tp=tp, fp=fp, tn=tn, fn=fn)"
      ]
    },
    {
      "cell_type": "markdown",
      "metadata": {
        "id": "AtFk_vRd9wFh"
      },
      "source": [
        "\n",
        "Now that we have succesfully trained a model, let's compare the accuracy of the `sentiment_model` to that of the baseline majority class classifier."
      ]
    },
    {
      "cell_type": "code",
      "execution_count": null,
      "metadata": {
        "id": "_mrhW-tBLxIu",
        "colab": {
          "base_uri": "https://localhost:8080/"
        },
        "outputId": "5b24dc9f-21d9-4340-b922-ec0e6837c940"
      },
      "outputs": [
        {
          "output_type": "stream",
          "name": "stdout",
          "text": [
            "1.0\n",
            "0.819\n"
          ]
        }
      ],
      "source": [
        "# use sklearns accuracy_score function to compute the accuracy of the model on the test set\n",
        "s1 = accuracy_score(products_test['sentiment'], products_test['sentiment'])\n",
        "s2 = accuracy_score(y_test, pred)\n",
        "print(s1)\n",
        "print(s2)"
      ]
    },
    {
      "cell_type": "markdown",
      "metadata": {
        "id": "akfXBOStI6dJ"
      },
      "source": [
        "### Build a Classifier using word2vec features"
      ]
    },
    {
      "cell_type": "code",
      "execution_count": null,
      "metadata": {
        "id": "3SPfk5n_I51q"
      },
      "outputs": [],
      "source": [
        "import gensim.downloader as api\n",
        "model = api.load(\"glove-twitter-100\")\n"
      ]
    },
    {
      "cell_type": "markdown",
      "metadata": {
        "id": "CUby_VyK-OtL"
      },
      "source": [
        "Now we will take each sentence and build a feature vector base on our Word2Vec model.\n",
        "\n",
        "For each sentence in the dataset, we will first split it into words (tokenize it) using the ``count_vectorizer.build_tokenizer()`` function. Then for each word, we will use word2vec to get a word embedding, and we will average these over the words in a review"
      ]
    },
    {
      "cell_type": "code",
      "execution_count": null,
      "metadata": {
        "id": "aPTwlpVtYbJ9"
      },
      "outputs": [],
      "source": [
        "# word2vec model\n",
        "def get_average_word2vec(sentence, tokenizer, word2vec):\n",
        "    tokens = tokenizer(sentence)\n",
        "    v  =0\n",
        "    total = 0\n",
        "    for word in tokens:\n",
        "        if word in word2vec.vocab:\n",
        "            total += 1\n",
        "            vec = word2vec.word_vec(word) # TODO: get the word_vec from the word2vec model as in Problem 4\n",
        "            v += vec/np.linalg.norm(vec)\n",
        "    if total>0:\n",
        "        return v/total\n",
        "    return np.zeros(300)\n",
        "\n",
        "# The tokenizer we use was trained above\n",
        "X_train = np.array([get_average_word2vec(sentence, tokenizer, model) for sentence in products_train['review']])\n",
        "X_test = np.array([get_average_word2vec(sentence, tokenizer, model) for sentence in products_test['review']])\n",
        "\n",
        "# Train a logistic model\n",
        "sentiment_model_w2v = LogisticRegression()\n",
        "model = sentiment_model_w2v.fit(X_train, y_train)"
      ]
    },
    {
      "cell_type": "markdown",
      "metadata": {
        "id": "rHURNj92EG8i"
      },
      "source": [
        "Now we can train the model and assess it's accuracy on the test set."
      ]
    },
    {
      "cell_type": "code",
      "execution_count": null,
      "metadata": {
        "id": "ClN78yx714hs",
        "colab": {
          "base_uri": "https://localhost:8080/"
        },
        "outputId": "0a7749aa-e699-44ab-db4a-52c6019af4c6"
      },
      "outputs": [
        {
          "output_type": "stream",
          "name": "stdout",
          "text": [
            "0.757\n"
          ]
        }
      ],
      "source": [
        "# use sklearns accuracy_score function to compute the accuracy of the model on the test set\n",
        "pred1 = sentiment_model_w2v.predict(X_test)\n",
        "model_acc = accuracy_score(y_test, pred1)\n",
        "print(model_acc)"
      ]
    },
    {
      "cell_type": "markdown",
      "metadata": {
        "id": "pYbS7i4-Mhf4"
      },
      "source": [
        "\n",
        "\n",
        "**The Bag of Words model performs better.**\n"
      ]
    },
    {
      "cell_type": "markdown",
      "metadata": {
        "id": "fCiJuQnmEKsS"
      },
      "source": [
        "## Hyperparameter tuning\n",
        "\n",
        "Hyperparameter tuning to pick the best possible value of lambda.\n",
        "\n"
      ]
    },
    {
      "cell_type": "code",
      "source": [
        "\n",
        "from sklearn.model_selection import GridSearchCV\n",
        "hyper_grid = {'C': [0.001, 0.01, 0.1, 1, 10, 100]}\n",
        "sentiment_model_w2v = LogisticRegression()\n",
        "grid_search = GridSearchCV(sentiment_model_w2v, hyper_grid, cv=5)\n",
        "grid_search.fit(X_train, y_train)\n",
        "print(\"hyperparameters:\", grid_search.best_params_)\n",
        "print(\"accuracy:\", grid_search.best_score_)\n",
        "\n",
        "# Ans - accuracy 78.7%"
      ],
      "metadata": {
        "colab": {
          "base_uri": "https://localhost:8080/"
        },
        "id": "N20n7nL3P_j9",
        "outputId": "cc045164-2681-47c8-dece-f2b918f2fe87"
      },
      "execution_count": null,
      "outputs": [
        {
          "output_type": "stream",
          "name": "stderr",
          "text": [
            "/usr/local/lib/python3.8/dist-packages/sklearn/linear_model/_logistic.py:458: ConvergenceWarning: lbfgs failed to converge (status=1):\n",
            "STOP: TOTAL NO. of ITERATIONS REACHED LIMIT.\n",
            "\n",
            "Increase the number of iterations (max_iter) or scale the data as shown in:\n",
            "    https://scikit-learn.org/stable/modules/preprocessing.html\n",
            "Please also refer to the documentation for alternative solver options:\n",
            "    https://scikit-learn.org/stable/modules/linear_model.html#logistic-regression\n",
            "  n_iter_i = _check_optimize_result(\n",
            "/usr/local/lib/python3.8/dist-packages/sklearn/linear_model/_logistic.py:458: ConvergenceWarning: lbfgs failed to converge (status=1):\n",
            "STOP: TOTAL NO. of ITERATIONS REACHED LIMIT.\n",
            "\n",
            "Increase the number of iterations (max_iter) or scale the data as shown in:\n",
            "    https://scikit-learn.org/stable/modules/preprocessing.html\n",
            "Please also refer to the documentation for alternative solver options:\n",
            "    https://scikit-learn.org/stable/modules/linear_model.html#logistic-regression\n",
            "  n_iter_i = _check_optimize_result(\n",
            "/usr/local/lib/python3.8/dist-packages/sklearn/linear_model/_logistic.py:458: ConvergenceWarning: lbfgs failed to converge (status=1):\n",
            "STOP: TOTAL NO. of ITERATIONS REACHED LIMIT.\n",
            "\n",
            "Increase the number of iterations (max_iter) or scale the data as shown in:\n",
            "    https://scikit-learn.org/stable/modules/preprocessing.html\n",
            "Please also refer to the documentation for alternative solver options:\n",
            "    https://scikit-learn.org/stable/modules/linear_model.html#logistic-regression\n",
            "  n_iter_i = _check_optimize_result(\n",
            "/usr/local/lib/python3.8/dist-packages/sklearn/linear_model/_logistic.py:458: ConvergenceWarning: lbfgs failed to converge (status=1):\n",
            "STOP: TOTAL NO. of ITERATIONS REACHED LIMIT.\n",
            "\n",
            "Increase the number of iterations (max_iter) or scale the data as shown in:\n",
            "    https://scikit-learn.org/stable/modules/preprocessing.html\n",
            "Please also refer to the documentation for alternative solver options:\n",
            "    https://scikit-learn.org/stable/modules/linear_model.html#logistic-regression\n",
            "  n_iter_i = _check_optimize_result(\n",
            "/usr/local/lib/python3.8/dist-packages/sklearn/linear_model/_logistic.py:458: ConvergenceWarning: lbfgs failed to converge (status=1):\n",
            "STOP: TOTAL NO. of ITERATIONS REACHED LIMIT.\n",
            "\n",
            "Increase the number of iterations (max_iter) or scale the data as shown in:\n",
            "    https://scikit-learn.org/stable/modules/preprocessing.html\n",
            "Please also refer to the documentation for alternative solver options:\n",
            "    https://scikit-learn.org/stable/modules/linear_model.html#logistic-regression\n",
            "  n_iter_i = _check_optimize_result(\n",
            "/usr/local/lib/python3.8/dist-packages/sklearn/linear_model/_logistic.py:458: ConvergenceWarning: lbfgs failed to converge (status=1):\n",
            "STOP: TOTAL NO. of ITERATIONS REACHED LIMIT.\n",
            "\n",
            "Increase the number of iterations (max_iter) or scale the data as shown in:\n",
            "    https://scikit-learn.org/stable/modules/preprocessing.html\n",
            "Please also refer to the documentation for alternative solver options:\n",
            "    https://scikit-learn.org/stable/modules/linear_model.html#logistic-regression\n",
            "  n_iter_i = _check_optimize_result(\n"
          ]
        },
        {
          "output_type": "stream",
          "name": "stdout",
          "text": [
            "hyperparameters: {'C': 10}\n",
            "accuracy: 0.787\n"
          ]
        },
        {
          "output_type": "stream",
          "name": "stderr",
          "text": [
            "/usr/local/lib/python3.8/dist-packages/sklearn/linear_model/_logistic.py:458: ConvergenceWarning: lbfgs failed to converge (status=1):\n",
            "STOP: TOTAL NO. of ITERATIONS REACHED LIMIT.\n",
            "\n",
            "Increase the number of iterations (max_iter) or scale the data as shown in:\n",
            "    https://scikit-learn.org/stable/modules/preprocessing.html\n",
            "Please also refer to the documentation for alternative solver options:\n",
            "    https://scikit-learn.org/stable/modules/linear_model.html#logistic-regression\n",
            "  n_iter_i = _check_optimize_result(\n"
          ]
        }
      ]
    },
    {
      "cell_type": "markdown",
      "metadata": {
        "id": "MTfyayPsv3gN"
      },
      "source": [
        "## Bonus 2\n",
        "\n",
        "Remark: There are many ways of taking sentences and featurizing them. Finding new effective ways of doing this is a hot topic of research and in the last few years after word2vec was introduced, several new models such as Glove, Bert, Elmo have been proposed (and buiilt at UW!). These models use Recurrent neural networks, and transformer architectures.\n",
        "\n",
        "Use one of these models - or build your own based on an RNN and try to beat the logistic classifier above.\n"
      ]
    },
    {
      "cell_type": "code",
      "execution_count": null,
      "metadata": {
        "id": "bv6qPutRww2E"
      },
      "outputs": [],
      "source": []
    }
  ],
  "metadata": {
    "colab": {
      "provenance": []
    },
    "kernelspec": {
      "display_name": "Python 3",
      "name": "python3"
    }
  },
  "nbformat": 4,
  "nbformat_minor": 0
}